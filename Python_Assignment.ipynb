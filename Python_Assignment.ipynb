{
  "nbformat": 4,
  "nbformat_minor": 0,
  "metadata": {
    "colab": {
      "name": "Python Assignment.ipynb",
      "provenance": [],
      "mount_file_id": "14LSiGJ4VE0tuucBhdR1WgzgTV9PUdhqb",
      "authorship_tag": "ABX9TyMq8HbK4MGWivihcqMJJjC8",
      "include_colab_link": true
    },
    "kernelspec": {
      "name": "python3",
      "display_name": "Python 3"
    },
    "language_info": {
      "name": "python"
    }
  },
  "cells": [
    {
      "cell_type": "markdown",
      "metadata": {
        "id": "view-in-github",
        "colab_type": "text"
      },
      "source": [
        "<a href=\"https://colab.research.google.com/github/Bibhuti-MLAI/Python-Assignment/blob/main/Python_Assignment.ipynb\" target=\"_parent\"><img src=\"https://colab.research.google.com/assets/colab-badge.svg\" alt=\"Open In Colab\"/></a>"
      ]
    },
    {
      "cell_type": "markdown",
      "source": [
        "1. Create and insert new records to the table with name of the table as employee \n",
        "details and insert 2 records in the table\n",
        "2. Delete the first row where it matches particular condition from the table\n",
        "3. Update the existing record with the new value\n"
      ],
      "metadata": {
        "id": "ZSEGpqXR9TUV"
      }
    },
    {
      "cell_type": "code",
      "execution_count": 1,
      "metadata": {
        "id": "TkydEP3c9Lk_"
      },
      "outputs": [],
      "source": [
        "#packages required\n",
        "import pandas as pd\n",
        "import numpy as np"
      ]
    },
    {
      "cell_type": "code",
      "source": [
        "input = [[101,'John',28,30000,'HT'],\n",
        "         [102,'Arya',16,16000,'Stark'],\n",
        "         [103,'Jimmy',30,45000,'LK']]\n",
        "employee_details = pd.DataFrame(input,columns=['Emp_Id','Name','Age','Salary','Department'])\n",
        "employee_details.head()"
      ],
      "metadata": {
        "colab": {
          "base_uri": "https://localhost:8080/",
          "height": 143
        },
        "id": "GCVRO1MXKJWE",
        "outputId": "f4c407d0-f58a-46e0-9798-a4c0c6e574c5"
      },
      "execution_count": 2,
      "outputs": [
        {
          "output_type": "execute_result",
          "data": {
            "text/plain": [
              "   Emp_Id   Name  Age  Salary Department\n",
              "0     101   John   28   30000         HT\n",
              "1     102   Arya   16   16000      Stark\n",
              "2     103  Jimmy   30   45000         LK"
            ],
            "text/html": [
              "\n",
              "  <div id=\"df-d1626ce6-9a13-4c00-850e-9d8c4b15d7d6\">\n",
              "    <div class=\"colab-df-container\">\n",
              "      <div>\n",
              "<style scoped>\n",
              "    .dataframe tbody tr th:only-of-type {\n",
              "        vertical-align: middle;\n",
              "    }\n",
              "\n",
              "    .dataframe tbody tr th {\n",
              "        vertical-align: top;\n",
              "    }\n",
              "\n",
              "    .dataframe thead th {\n",
              "        text-align: right;\n",
              "    }\n",
              "</style>\n",
              "<table border=\"1\" class=\"dataframe\">\n",
              "  <thead>\n",
              "    <tr style=\"text-align: right;\">\n",
              "      <th></th>\n",
              "      <th>Emp_Id</th>\n",
              "      <th>Name</th>\n",
              "      <th>Age</th>\n",
              "      <th>Salary</th>\n",
              "      <th>Department</th>\n",
              "    </tr>\n",
              "  </thead>\n",
              "  <tbody>\n",
              "    <tr>\n",
              "      <th>0</th>\n",
              "      <td>101</td>\n",
              "      <td>John</td>\n",
              "      <td>28</td>\n",
              "      <td>30000</td>\n",
              "      <td>HT</td>\n",
              "    </tr>\n",
              "    <tr>\n",
              "      <th>1</th>\n",
              "      <td>102</td>\n",
              "      <td>Arya</td>\n",
              "      <td>16</td>\n",
              "      <td>16000</td>\n",
              "      <td>Stark</td>\n",
              "    </tr>\n",
              "    <tr>\n",
              "      <th>2</th>\n",
              "      <td>103</td>\n",
              "      <td>Jimmy</td>\n",
              "      <td>30</td>\n",
              "      <td>45000</td>\n",
              "      <td>LK</td>\n",
              "    </tr>\n",
              "  </tbody>\n",
              "</table>\n",
              "</div>\n",
              "      <button class=\"colab-df-convert\" onclick=\"convertToInteractive('df-d1626ce6-9a13-4c00-850e-9d8c4b15d7d6')\"\n",
              "              title=\"Convert this dataframe to an interactive table.\"\n",
              "              style=\"display:none;\">\n",
              "        \n",
              "  <svg xmlns=\"http://www.w3.org/2000/svg\" height=\"24px\"viewBox=\"0 0 24 24\"\n",
              "       width=\"24px\">\n",
              "    <path d=\"M0 0h24v24H0V0z\" fill=\"none\"/>\n",
              "    <path d=\"M18.56 5.44l.94 2.06.94-2.06 2.06-.94-2.06-.94-.94-2.06-.94 2.06-2.06.94zm-11 1L8.5 8.5l.94-2.06 2.06-.94-2.06-.94L8.5 2.5l-.94 2.06-2.06.94zm10 10l.94 2.06.94-2.06 2.06-.94-2.06-.94-.94-2.06-.94 2.06-2.06.94z\"/><path d=\"M17.41 7.96l-1.37-1.37c-.4-.4-.92-.59-1.43-.59-.52 0-1.04.2-1.43.59L10.3 9.45l-7.72 7.72c-.78.78-.78 2.05 0 2.83L4 21.41c.39.39.9.59 1.41.59.51 0 1.02-.2 1.41-.59l7.78-7.78 2.81-2.81c.8-.78.8-2.07 0-2.86zM5.41 20L4 18.59l7.72-7.72 1.47 1.35L5.41 20z\"/>\n",
              "  </svg>\n",
              "      </button>\n",
              "      \n",
              "  <style>\n",
              "    .colab-df-container {\n",
              "      display:flex;\n",
              "      flex-wrap:wrap;\n",
              "      gap: 12px;\n",
              "    }\n",
              "\n",
              "    .colab-df-convert {\n",
              "      background-color: #E8F0FE;\n",
              "      border: none;\n",
              "      border-radius: 50%;\n",
              "      cursor: pointer;\n",
              "      display: none;\n",
              "      fill: #1967D2;\n",
              "      height: 32px;\n",
              "      padding: 0 0 0 0;\n",
              "      width: 32px;\n",
              "    }\n",
              "\n",
              "    .colab-df-convert:hover {\n",
              "      background-color: #E2EBFA;\n",
              "      box-shadow: 0px 1px 2px rgba(60, 64, 67, 0.3), 0px 1px 3px 1px rgba(60, 64, 67, 0.15);\n",
              "      fill: #174EA6;\n",
              "    }\n",
              "\n",
              "    [theme=dark] .colab-df-convert {\n",
              "      background-color: #3B4455;\n",
              "      fill: #D2E3FC;\n",
              "    }\n",
              "\n",
              "    [theme=dark] .colab-df-convert:hover {\n",
              "      background-color: #434B5C;\n",
              "      box-shadow: 0px 1px 3px 1px rgba(0, 0, 0, 0.15);\n",
              "      filter: drop-shadow(0px 1px 2px rgba(0, 0, 0, 0.3));\n",
              "      fill: #FFFFFF;\n",
              "    }\n",
              "  </style>\n",
              "\n",
              "      <script>\n",
              "        const buttonEl =\n",
              "          document.querySelector('#df-d1626ce6-9a13-4c00-850e-9d8c4b15d7d6 button.colab-df-convert');\n",
              "        buttonEl.style.display =\n",
              "          google.colab.kernel.accessAllowed ? 'block' : 'none';\n",
              "\n",
              "        async function convertToInteractive(key) {\n",
              "          const element = document.querySelector('#df-d1626ce6-9a13-4c00-850e-9d8c4b15d7d6');\n",
              "          const dataTable =\n",
              "            await google.colab.kernel.invokeFunction('convertToInteractive',\n",
              "                                                     [key], {});\n",
              "          if (!dataTable) return;\n",
              "\n",
              "          const docLinkHtml = 'Like what you see? Visit the ' +\n",
              "            '<a target=\"_blank\" href=https://colab.research.google.com/notebooks/data_table.ipynb>data table notebook</a>'\n",
              "            + ' to learn more about interactive tables.';\n",
              "          element.innerHTML = '';\n",
              "          dataTable['output_type'] = 'display_data';\n",
              "          await google.colab.output.renderOutput(dataTable, element);\n",
              "          const docLink = document.createElement('div');\n",
              "          docLink.innerHTML = docLinkHtml;\n",
              "          element.appendChild(docLink);\n",
              "        }\n",
              "      </script>\n",
              "    </div>\n",
              "  </div>\n",
              "  "
            ]
          },
          "metadata": {},
          "execution_count": 2
        }
      ]
    },
    {
      "cell_type": "code",
      "source": [
        "type(employee_details)"
      ],
      "metadata": {
        "colab": {
          "base_uri": "https://localhost:8080/"
        },
        "id": "rCftuSbsAy2V",
        "outputId": "575263bd-65d7-4b2e-b7ae-711c9f07bab2"
      },
      "execution_count": 3,
      "outputs": [
        {
          "output_type": "execute_result",
          "data": {
            "text/plain": [
              "pandas.core.frame.DataFrame"
            ]
          },
          "metadata": {},
          "execution_count": 3
        }
      ]
    },
    {
      "cell_type": "code",
      "source": [
        "employee_details.drop(employee_details[employee_details['Emp_Id'] == 101].index, inplace = True)\n"
      ],
      "metadata": {
        "id": "hP2rMU1ckyG_"
      },
      "execution_count": 4,
      "outputs": []
    },
    {
      "cell_type": "code",
      "source": [
        "employee_details.head()"
      ],
      "metadata": {
        "id": "uQanmt85mY7K",
        "outputId": "1e67f53d-8285-403c-8f98-362cec177209",
        "colab": {
          "base_uri": "https://localhost:8080/",
          "height": 112
        }
      },
      "execution_count": 5,
      "outputs": [
        {
          "output_type": "execute_result",
          "data": {
            "text/plain": [
              "   Emp_Id   Name  Age  Salary Department\n",
              "1     102   Arya   16   16000      Stark\n",
              "2     103  Jimmy   30   45000         LK"
            ],
            "text/html": [
              "\n",
              "  <div id=\"df-53046fcd-c8f6-48df-9393-9e12928c9362\">\n",
              "    <div class=\"colab-df-container\">\n",
              "      <div>\n",
              "<style scoped>\n",
              "    .dataframe tbody tr th:only-of-type {\n",
              "        vertical-align: middle;\n",
              "    }\n",
              "\n",
              "    .dataframe tbody tr th {\n",
              "        vertical-align: top;\n",
              "    }\n",
              "\n",
              "    .dataframe thead th {\n",
              "        text-align: right;\n",
              "    }\n",
              "</style>\n",
              "<table border=\"1\" class=\"dataframe\">\n",
              "  <thead>\n",
              "    <tr style=\"text-align: right;\">\n",
              "      <th></th>\n",
              "      <th>Emp_Id</th>\n",
              "      <th>Name</th>\n",
              "      <th>Age</th>\n",
              "      <th>Salary</th>\n",
              "      <th>Department</th>\n",
              "    </tr>\n",
              "  </thead>\n",
              "  <tbody>\n",
              "    <tr>\n",
              "      <th>1</th>\n",
              "      <td>102</td>\n",
              "      <td>Arya</td>\n",
              "      <td>16</td>\n",
              "      <td>16000</td>\n",
              "      <td>Stark</td>\n",
              "    </tr>\n",
              "    <tr>\n",
              "      <th>2</th>\n",
              "      <td>103</td>\n",
              "      <td>Jimmy</td>\n",
              "      <td>30</td>\n",
              "      <td>45000</td>\n",
              "      <td>LK</td>\n",
              "    </tr>\n",
              "  </tbody>\n",
              "</table>\n",
              "</div>\n",
              "      <button class=\"colab-df-convert\" onclick=\"convertToInteractive('df-53046fcd-c8f6-48df-9393-9e12928c9362')\"\n",
              "              title=\"Convert this dataframe to an interactive table.\"\n",
              "              style=\"display:none;\">\n",
              "        \n",
              "  <svg xmlns=\"http://www.w3.org/2000/svg\" height=\"24px\"viewBox=\"0 0 24 24\"\n",
              "       width=\"24px\">\n",
              "    <path d=\"M0 0h24v24H0V0z\" fill=\"none\"/>\n",
              "    <path d=\"M18.56 5.44l.94 2.06.94-2.06 2.06-.94-2.06-.94-.94-2.06-.94 2.06-2.06.94zm-11 1L8.5 8.5l.94-2.06 2.06-.94-2.06-.94L8.5 2.5l-.94 2.06-2.06.94zm10 10l.94 2.06.94-2.06 2.06-.94-2.06-.94-.94-2.06-.94 2.06-2.06.94z\"/><path d=\"M17.41 7.96l-1.37-1.37c-.4-.4-.92-.59-1.43-.59-.52 0-1.04.2-1.43.59L10.3 9.45l-7.72 7.72c-.78.78-.78 2.05 0 2.83L4 21.41c.39.39.9.59 1.41.59.51 0 1.02-.2 1.41-.59l7.78-7.78 2.81-2.81c.8-.78.8-2.07 0-2.86zM5.41 20L4 18.59l7.72-7.72 1.47 1.35L5.41 20z\"/>\n",
              "  </svg>\n",
              "      </button>\n",
              "      \n",
              "  <style>\n",
              "    .colab-df-container {\n",
              "      display:flex;\n",
              "      flex-wrap:wrap;\n",
              "      gap: 12px;\n",
              "    }\n",
              "\n",
              "    .colab-df-convert {\n",
              "      background-color: #E8F0FE;\n",
              "      border: none;\n",
              "      border-radius: 50%;\n",
              "      cursor: pointer;\n",
              "      display: none;\n",
              "      fill: #1967D2;\n",
              "      height: 32px;\n",
              "      padding: 0 0 0 0;\n",
              "      width: 32px;\n",
              "    }\n",
              "\n",
              "    .colab-df-convert:hover {\n",
              "      background-color: #E2EBFA;\n",
              "      box-shadow: 0px 1px 2px rgba(60, 64, 67, 0.3), 0px 1px 3px 1px rgba(60, 64, 67, 0.15);\n",
              "      fill: #174EA6;\n",
              "    }\n",
              "\n",
              "    [theme=dark] .colab-df-convert {\n",
              "      background-color: #3B4455;\n",
              "      fill: #D2E3FC;\n",
              "    }\n",
              "\n",
              "    [theme=dark] .colab-df-convert:hover {\n",
              "      background-color: #434B5C;\n",
              "      box-shadow: 0px 1px 3px 1px rgba(0, 0, 0, 0.15);\n",
              "      filter: drop-shadow(0px 1px 2px rgba(0, 0, 0, 0.3));\n",
              "      fill: #FFFFFF;\n",
              "    }\n",
              "  </style>\n",
              "\n",
              "      <script>\n",
              "        const buttonEl =\n",
              "          document.querySelector('#df-53046fcd-c8f6-48df-9393-9e12928c9362 button.colab-df-convert');\n",
              "        buttonEl.style.display =\n",
              "          google.colab.kernel.accessAllowed ? 'block' : 'none';\n",
              "\n",
              "        async function convertToInteractive(key) {\n",
              "          const element = document.querySelector('#df-53046fcd-c8f6-48df-9393-9e12928c9362');\n",
              "          const dataTable =\n",
              "            await google.colab.kernel.invokeFunction('convertToInteractive',\n",
              "                                                     [key], {});\n",
              "          if (!dataTable) return;\n",
              "\n",
              "          const docLinkHtml = 'Like what you see? Visit the ' +\n",
              "            '<a target=\"_blank\" href=https://colab.research.google.com/notebooks/data_table.ipynb>data table notebook</a>'\n",
              "            + ' to learn more about interactive tables.';\n",
              "          element.innerHTML = '';\n",
              "          dataTable['output_type'] = 'display_data';\n",
              "          await google.colab.output.renderOutput(dataTable, element);\n",
              "          const docLink = document.createElement('div');\n",
              "          docLink.innerHTML = docLinkHtml;\n",
              "          element.appendChild(docLink);\n",
              "        }\n",
              "      </script>\n",
              "    </div>\n",
              "  </div>\n",
              "  "
            ]
          },
          "metadata": {},
          "execution_count": 5
        }
      ]
    },
    {
      "cell_type": "code",
      "source": [
        "employee_details.loc[len(employee_details.index)+1] = [104,'Sansa','20',50000,'Stark'] "
      ],
      "metadata": {
        "id": "RKZIPH_ilpXI"
      },
      "execution_count": 6,
      "outputs": []
    },
    {
      "cell_type": "code",
      "source": [
        "employee_details.head()"
      ],
      "metadata": {
        "colab": {
          "base_uri": "https://localhost:8080/",
          "height": 143
        },
        "id": "fy7xdTWxbwa7",
        "outputId": "1ff45645-6a00-4fb8-ccf8-ff7adaaaa601"
      },
      "execution_count": 7,
      "outputs": [
        {
          "output_type": "execute_result",
          "data": {
            "text/plain": [
              "   Emp_Id   Name Age  Salary Department\n",
              "1     102   Arya  16   16000      Stark\n",
              "2     103  Jimmy  30   45000         LK\n",
              "3     104  Sansa  20   50000      Stark"
            ],
            "text/html": [
              "\n",
              "  <div id=\"df-d821daa8-d6e6-4692-a37f-adeaa0d0ef17\">\n",
              "    <div class=\"colab-df-container\">\n",
              "      <div>\n",
              "<style scoped>\n",
              "    .dataframe tbody tr th:only-of-type {\n",
              "        vertical-align: middle;\n",
              "    }\n",
              "\n",
              "    .dataframe tbody tr th {\n",
              "        vertical-align: top;\n",
              "    }\n",
              "\n",
              "    .dataframe thead th {\n",
              "        text-align: right;\n",
              "    }\n",
              "</style>\n",
              "<table border=\"1\" class=\"dataframe\">\n",
              "  <thead>\n",
              "    <tr style=\"text-align: right;\">\n",
              "      <th></th>\n",
              "      <th>Emp_Id</th>\n",
              "      <th>Name</th>\n",
              "      <th>Age</th>\n",
              "      <th>Salary</th>\n",
              "      <th>Department</th>\n",
              "    </tr>\n",
              "  </thead>\n",
              "  <tbody>\n",
              "    <tr>\n",
              "      <th>1</th>\n",
              "      <td>102</td>\n",
              "      <td>Arya</td>\n",
              "      <td>16</td>\n",
              "      <td>16000</td>\n",
              "      <td>Stark</td>\n",
              "    </tr>\n",
              "    <tr>\n",
              "      <th>2</th>\n",
              "      <td>103</td>\n",
              "      <td>Jimmy</td>\n",
              "      <td>30</td>\n",
              "      <td>45000</td>\n",
              "      <td>LK</td>\n",
              "    </tr>\n",
              "    <tr>\n",
              "      <th>3</th>\n",
              "      <td>104</td>\n",
              "      <td>Sansa</td>\n",
              "      <td>20</td>\n",
              "      <td>50000</td>\n",
              "      <td>Stark</td>\n",
              "    </tr>\n",
              "  </tbody>\n",
              "</table>\n",
              "</div>\n",
              "      <button class=\"colab-df-convert\" onclick=\"convertToInteractive('df-d821daa8-d6e6-4692-a37f-adeaa0d0ef17')\"\n",
              "              title=\"Convert this dataframe to an interactive table.\"\n",
              "              style=\"display:none;\">\n",
              "        \n",
              "  <svg xmlns=\"http://www.w3.org/2000/svg\" height=\"24px\"viewBox=\"0 0 24 24\"\n",
              "       width=\"24px\">\n",
              "    <path d=\"M0 0h24v24H0V0z\" fill=\"none\"/>\n",
              "    <path d=\"M18.56 5.44l.94 2.06.94-2.06 2.06-.94-2.06-.94-.94-2.06-.94 2.06-2.06.94zm-11 1L8.5 8.5l.94-2.06 2.06-.94-2.06-.94L8.5 2.5l-.94 2.06-2.06.94zm10 10l.94 2.06.94-2.06 2.06-.94-2.06-.94-.94-2.06-.94 2.06-2.06.94z\"/><path d=\"M17.41 7.96l-1.37-1.37c-.4-.4-.92-.59-1.43-.59-.52 0-1.04.2-1.43.59L10.3 9.45l-7.72 7.72c-.78.78-.78 2.05 0 2.83L4 21.41c.39.39.9.59 1.41.59.51 0 1.02-.2 1.41-.59l7.78-7.78 2.81-2.81c.8-.78.8-2.07 0-2.86zM5.41 20L4 18.59l7.72-7.72 1.47 1.35L5.41 20z\"/>\n",
              "  </svg>\n",
              "      </button>\n",
              "      \n",
              "  <style>\n",
              "    .colab-df-container {\n",
              "      display:flex;\n",
              "      flex-wrap:wrap;\n",
              "      gap: 12px;\n",
              "    }\n",
              "\n",
              "    .colab-df-convert {\n",
              "      background-color: #E8F0FE;\n",
              "      border: none;\n",
              "      border-radius: 50%;\n",
              "      cursor: pointer;\n",
              "      display: none;\n",
              "      fill: #1967D2;\n",
              "      height: 32px;\n",
              "      padding: 0 0 0 0;\n",
              "      width: 32px;\n",
              "    }\n",
              "\n",
              "    .colab-df-convert:hover {\n",
              "      background-color: #E2EBFA;\n",
              "      box-shadow: 0px 1px 2px rgba(60, 64, 67, 0.3), 0px 1px 3px 1px rgba(60, 64, 67, 0.15);\n",
              "      fill: #174EA6;\n",
              "    }\n",
              "\n",
              "    [theme=dark] .colab-df-convert {\n",
              "      background-color: #3B4455;\n",
              "      fill: #D2E3FC;\n",
              "    }\n",
              "\n",
              "    [theme=dark] .colab-df-convert:hover {\n",
              "      background-color: #434B5C;\n",
              "      box-shadow: 0px 1px 3px 1px rgba(0, 0, 0, 0.15);\n",
              "      filter: drop-shadow(0px 1px 2px rgba(0, 0, 0, 0.3));\n",
              "      fill: #FFFFFF;\n",
              "    }\n",
              "  </style>\n",
              "\n",
              "      <script>\n",
              "        const buttonEl =\n",
              "          document.querySelector('#df-d821daa8-d6e6-4692-a37f-adeaa0d0ef17 button.colab-df-convert');\n",
              "        buttonEl.style.display =\n",
              "          google.colab.kernel.accessAllowed ? 'block' : 'none';\n",
              "\n",
              "        async function convertToInteractive(key) {\n",
              "          const element = document.querySelector('#df-d821daa8-d6e6-4692-a37f-adeaa0d0ef17');\n",
              "          const dataTable =\n",
              "            await google.colab.kernel.invokeFunction('convertToInteractive',\n",
              "                                                     [key], {});\n",
              "          if (!dataTable) return;\n",
              "\n",
              "          const docLinkHtml = 'Like what you see? Visit the ' +\n",
              "            '<a target=\"_blank\" href=https://colab.research.google.com/notebooks/data_table.ipynb>data table notebook</a>'\n",
              "            + ' to learn more about interactive tables.';\n",
              "          element.innerHTML = '';\n",
              "          dataTable['output_type'] = 'display_data';\n",
              "          await google.colab.output.renderOutput(dataTable, element);\n",
              "          const docLink = document.createElement('div');\n",
              "          docLink.innerHTML = docLinkHtml;\n",
              "          element.appendChild(docLink);\n",
              "        }\n",
              "      </script>\n",
              "    </div>\n",
              "  </div>\n",
              "  "
            ]
          },
          "metadata": {},
          "execution_count": 7
        }
      ]
    },
    {
      "cell_type": "markdown",
      "source": [
        "# Keep only last name of the players in the dataframe for below dataframe \n",
        "player_list = [['M.S.Dhoni', 36, 75, 5428000], \n",
        "['A.B.D Villers', 38, 74, 3428000],\n",
        " ['V.Kholi', 31, 70, 8428000],\n",
        " ['S.Smith', 34, 80, 4428000], \n",
        " ['C.Gayle', 40, 100, 4528000],\n",
        " ['J.Root', 33, 72, 7028000], \n",
        " ['K.Peterson', 42, 85, 2528000]]\n",
        "# columns=['Name', 'Age', 'Weight', 'Salary']\n",
        "\n",
        "\n"
      ],
      "metadata": {
        "id": "c-AsRaavGvqn"
      }
    },
    {
      "cell_type": "code",
      "source": [
        "player_list = [['Dhoni', 36, 75, 5428000], \n",
        "               ['Villers', 38, 74, 3428000], \n",
        "               ['Kholi', 31, 70, 8428000], \n",
        "               ['Smith', 34, 80, 4428000],\n",
        "               ['Gayle', 40, 100, 4528000],\n",
        "               ['Root', 33, 72, 7028000],\n",
        "               ['Peterson', 42, 85, 2528000]]"
      ],
      "metadata": {
        "id": "5PrBLM6Glkwj"
      },
      "execution_count": 8,
      "outputs": []
    },
    {
      "cell_type": "code",
      "source": [
        "player_info = pd.DataFrame(player_list,columns=['Name', 'Age', 'Weight', 'Salary'])"
      ],
      "metadata": {
        "id": "jcvFaMbCr11Q"
      },
      "execution_count": 9,
      "outputs": []
    },
    {
      "cell_type": "code",
      "source": [
        "player_info"
      ],
      "metadata": {
        "colab": {
          "base_uri": "https://localhost:8080/",
          "height": 269
        },
        "id": "cQ4Fas2Tsv0F",
        "outputId": "913f9f47-9bf1-4e01-d8a4-1efad5b464cd"
      },
      "execution_count": 10,
      "outputs": [
        {
          "output_type": "execute_result",
          "data": {
            "text/plain": [
              "       Name  Age  Weight   Salary\n",
              "0     Dhoni   36      75  5428000\n",
              "1   Villers   38      74  3428000\n",
              "2     Kholi   31      70  8428000\n",
              "3     Smith   34      80  4428000\n",
              "4     Gayle   40     100  4528000\n",
              "5      Root   33      72  7028000\n",
              "6  Peterson   42      85  2528000"
            ],
            "text/html": [
              "\n",
              "  <div id=\"df-fbc14fc8-cdee-402e-b0f6-bfaef33277c8\">\n",
              "    <div class=\"colab-df-container\">\n",
              "      <div>\n",
              "<style scoped>\n",
              "    .dataframe tbody tr th:only-of-type {\n",
              "        vertical-align: middle;\n",
              "    }\n",
              "\n",
              "    .dataframe tbody tr th {\n",
              "        vertical-align: top;\n",
              "    }\n",
              "\n",
              "    .dataframe thead th {\n",
              "        text-align: right;\n",
              "    }\n",
              "</style>\n",
              "<table border=\"1\" class=\"dataframe\">\n",
              "  <thead>\n",
              "    <tr style=\"text-align: right;\">\n",
              "      <th></th>\n",
              "      <th>Name</th>\n",
              "      <th>Age</th>\n",
              "      <th>Weight</th>\n",
              "      <th>Salary</th>\n",
              "    </tr>\n",
              "  </thead>\n",
              "  <tbody>\n",
              "    <tr>\n",
              "      <th>0</th>\n",
              "      <td>Dhoni</td>\n",
              "      <td>36</td>\n",
              "      <td>75</td>\n",
              "      <td>5428000</td>\n",
              "    </tr>\n",
              "    <tr>\n",
              "      <th>1</th>\n",
              "      <td>Villers</td>\n",
              "      <td>38</td>\n",
              "      <td>74</td>\n",
              "      <td>3428000</td>\n",
              "    </tr>\n",
              "    <tr>\n",
              "      <th>2</th>\n",
              "      <td>Kholi</td>\n",
              "      <td>31</td>\n",
              "      <td>70</td>\n",
              "      <td>8428000</td>\n",
              "    </tr>\n",
              "    <tr>\n",
              "      <th>3</th>\n",
              "      <td>Smith</td>\n",
              "      <td>34</td>\n",
              "      <td>80</td>\n",
              "      <td>4428000</td>\n",
              "    </tr>\n",
              "    <tr>\n",
              "      <th>4</th>\n",
              "      <td>Gayle</td>\n",
              "      <td>40</td>\n",
              "      <td>100</td>\n",
              "      <td>4528000</td>\n",
              "    </tr>\n",
              "    <tr>\n",
              "      <th>5</th>\n",
              "      <td>Root</td>\n",
              "      <td>33</td>\n",
              "      <td>72</td>\n",
              "      <td>7028000</td>\n",
              "    </tr>\n",
              "    <tr>\n",
              "      <th>6</th>\n",
              "      <td>Peterson</td>\n",
              "      <td>42</td>\n",
              "      <td>85</td>\n",
              "      <td>2528000</td>\n",
              "    </tr>\n",
              "  </tbody>\n",
              "</table>\n",
              "</div>\n",
              "      <button class=\"colab-df-convert\" onclick=\"convertToInteractive('df-fbc14fc8-cdee-402e-b0f6-bfaef33277c8')\"\n",
              "              title=\"Convert this dataframe to an interactive table.\"\n",
              "              style=\"display:none;\">\n",
              "        \n",
              "  <svg xmlns=\"http://www.w3.org/2000/svg\" height=\"24px\"viewBox=\"0 0 24 24\"\n",
              "       width=\"24px\">\n",
              "    <path d=\"M0 0h24v24H0V0z\" fill=\"none\"/>\n",
              "    <path d=\"M18.56 5.44l.94 2.06.94-2.06 2.06-.94-2.06-.94-.94-2.06-.94 2.06-2.06.94zm-11 1L8.5 8.5l.94-2.06 2.06-.94-2.06-.94L8.5 2.5l-.94 2.06-2.06.94zm10 10l.94 2.06.94-2.06 2.06-.94-2.06-.94-.94-2.06-.94 2.06-2.06.94z\"/><path d=\"M17.41 7.96l-1.37-1.37c-.4-.4-.92-.59-1.43-.59-.52 0-1.04.2-1.43.59L10.3 9.45l-7.72 7.72c-.78.78-.78 2.05 0 2.83L4 21.41c.39.39.9.59 1.41.59.51 0 1.02-.2 1.41-.59l7.78-7.78 2.81-2.81c.8-.78.8-2.07 0-2.86zM5.41 20L4 18.59l7.72-7.72 1.47 1.35L5.41 20z\"/>\n",
              "  </svg>\n",
              "      </button>\n",
              "      \n",
              "  <style>\n",
              "    .colab-df-container {\n",
              "      display:flex;\n",
              "      flex-wrap:wrap;\n",
              "      gap: 12px;\n",
              "    }\n",
              "\n",
              "    .colab-df-convert {\n",
              "      background-color: #E8F0FE;\n",
              "      border: none;\n",
              "      border-radius: 50%;\n",
              "      cursor: pointer;\n",
              "      display: none;\n",
              "      fill: #1967D2;\n",
              "      height: 32px;\n",
              "      padding: 0 0 0 0;\n",
              "      width: 32px;\n",
              "    }\n",
              "\n",
              "    .colab-df-convert:hover {\n",
              "      background-color: #E2EBFA;\n",
              "      box-shadow: 0px 1px 2px rgba(60, 64, 67, 0.3), 0px 1px 3px 1px rgba(60, 64, 67, 0.15);\n",
              "      fill: #174EA6;\n",
              "    }\n",
              "\n",
              "    [theme=dark] .colab-df-convert {\n",
              "      background-color: #3B4455;\n",
              "      fill: #D2E3FC;\n",
              "    }\n",
              "\n",
              "    [theme=dark] .colab-df-convert:hover {\n",
              "      background-color: #434B5C;\n",
              "      box-shadow: 0px 1px 3px 1px rgba(0, 0, 0, 0.15);\n",
              "      filter: drop-shadow(0px 1px 2px rgba(0, 0, 0, 0.3));\n",
              "      fill: #FFFFFF;\n",
              "    }\n",
              "  </style>\n",
              "\n",
              "      <script>\n",
              "        const buttonEl =\n",
              "          document.querySelector('#df-fbc14fc8-cdee-402e-b0f6-bfaef33277c8 button.colab-df-convert');\n",
              "        buttonEl.style.display =\n",
              "          google.colab.kernel.accessAllowed ? 'block' : 'none';\n",
              "\n",
              "        async function convertToInteractive(key) {\n",
              "          const element = document.querySelector('#df-fbc14fc8-cdee-402e-b0f6-bfaef33277c8');\n",
              "          const dataTable =\n",
              "            await google.colab.kernel.invokeFunction('convertToInteractive',\n",
              "                                                     [key], {});\n",
              "          if (!dataTable) return;\n",
              "\n",
              "          const docLinkHtml = 'Like what you see? Visit the ' +\n",
              "            '<a target=\"_blank\" href=https://colab.research.google.com/notebooks/data_table.ipynb>data table notebook</a>'\n",
              "            + ' to learn more about interactive tables.';\n",
              "          element.innerHTML = '';\n",
              "          dataTable['output_type'] = 'display_data';\n",
              "          await google.colab.output.renderOutput(dataTable, element);\n",
              "          const docLink = document.createElement('div');\n",
              "          docLink.innerHTML = docLinkHtml;\n",
              "          element.appendChild(docLink);\n",
              "        }\n",
              "      </script>\n",
              "    </div>\n",
              "  </div>\n",
              "  "
            ]
          },
          "metadata": {},
          "execution_count": 10
        }
      ]
    },
    {
      "cell_type": "code",
      "source": [
        "[player_info.Age , player_info.Weight ]"
      ],
      "metadata": {
        "colab": {
          "base_uri": "https://localhost:8080/"
        },
        "id": "QRfxcmLYmy-V",
        "outputId": "77d9f28c-704c-4a33-c491-655f2c481bee"
      },
      "execution_count": 11,
      "outputs": [
        {
          "output_type": "execute_result",
          "data": {
            "text/plain": [
              "[0    36\n",
              " 1    38\n",
              " 2    31\n",
              " 3    34\n",
              " 4    40\n",
              " 5    33\n",
              " 6    42\n",
              " Name: Age, dtype: int64, 0     75\n",
              " 1     74\n",
              " 2     70\n",
              " 3     80\n",
              " 4    100\n",
              " 5     72\n",
              " 6     85\n",
              " Name: Weight, dtype: int64]"
            ]
          },
          "metadata": {},
          "execution_count": 11
        }
      ]
    },
    {
      "cell_type": "code",
      "source": [
        "def fun():\n",
        "  a = print(int(input(\"Enter your Age : \")))\n",
        "  b = print(int(input(\"Enter your Weight : \")))\n",
        "  \n",
        "    if a==a1 & b==b1:\n",
        "      print(True)\n",
        "    else:\n",
        "      print(False)\n",
        "fun()"
      ],
      "metadata": {
        "colab": {
          "base_uri": "https://localhost:8080/",
          "height": 130
        },
        "id": "vPYXFXDplYk2",
        "outputId": "66565397-b107-44f7-f43e-69f719ea00e2"
      },
      "execution_count": 12,
      "outputs": [
        {
          "output_type": "error",
          "ename": "IndentationError",
          "evalue": "ignored",
          "traceback": [
            "\u001b[0;36m  File \u001b[0;32m\"<ipython-input-12-5ef21094a634>\"\u001b[0;36m, line \u001b[0;32m5\u001b[0m\n\u001b[0;31m    if a==a1 & b==b1:\u001b[0m\n\u001b[0m    ^\u001b[0m\n\u001b[0;31mIndentationError\u001b[0m\u001b[0;31m:\u001b[0m unexpected indent\n"
          ]
        }
      ]
    },
    {
      "cell_type": "markdown",
      "source": [
        "## Increase the salary of players with 35% of existing salary whose age is more than 35 and weight less than 80"
      ],
      "metadata": {
        "id": "jmfmrfpXG-QF"
      }
    },
    {
      "cell_type": "code",
      "source": [
        "player_info['new_salary'] = np.where((player_info['Age']>35) & (player_info['Weight']<80) ,1.35*player_info['Salary'], player_info['Salary'])\n",
        "player_info"
      ],
      "metadata": {
        "id": "E-bAnUWdteKe"
      },
      "execution_count": null,
      "outputs": []
    },
    {
      "cell_type": "markdown",
      "source": [
        "Increase the salary of players with average of all the existing players salary whose age is less than 40 and weight less than 80"
      ],
      "metadata": {
        "id": "RPhlVBWIAGbJ"
      }
    },
    {
      "cell_type": "code",
      "source": [
        "player_info['new_salary_avg'] = np.where((player_info['Age']>40) & (player_info['Weight']>80) ,(player_info['Salary'].mean())+player_info['Salary'], player_info['Salary'])\n",
        "player_info"
      ],
      "metadata": {
        "id": "POWRt6jD-8sB"
      },
      "execution_count": null,
      "outputs": []
    },
    {
      "cell_type": "markdown",
      "source": [
        "Display the dataframe from the input file shared (input_file.csv) where date.utc column is in standard timestamp format"
      ],
      "metadata": {
        "id": "eyMj8SA-C2L2"
      }
    },
    {
      "cell_type": "code",
      "source": [
        "df = pd.read_csv(\"/content/drive/MyDrive/python module setup/input_file.csv\")"
      ],
      "metadata": {
        "id": "ERQm6gaNBmNh"
      },
      "execution_count": null,
      "outputs": []
    },
    {
      "cell_type": "code",
      "source": [
        "df.dtypes"
      ],
      "metadata": {
        "id": "sR0Cj5CnDTFj"
      },
      "execution_count": null,
      "outputs": []
    },
    {
      "cell_type": "code",
      "source": [
        "df['date.utc']=pd.to_datetime(df['date.utc'])"
      ],
      "metadata": {
        "id": "G8HDx8TpDU3p"
      },
      "execution_count": null,
      "outputs": []
    },
    {
      "cell_type": "code",
      "source": [
        "df.head()"
      ],
      "metadata": {
        "id": "NMW-dxRXD8O9"
      },
      "execution_count": null,
      "outputs": []
    },
    {
      "cell_type": "code",
      "source": [
        "df['date.IST'] = df['date.utc'].dt.tz_convert('Asia/Kolkata')\n",
        "df.head(10)"
      ],
      "metadata": {
        "id": "AEwQ4A50FKCv"
      },
      "execution_count": null,
      "outputs": []
    },
    {
      "cell_type": "markdown",
      "source": [
        "Clean the parameter column from the input file shared and keep it in int type"
      ],
      "metadata": {
        "id": "v2nEWQ7jHuiq"
      }
    },
    {
      "cell_type": "code",
      "source": [
        "df['parameter'].replace(regex=True,inplace=True,to_replace=r'[^0-9.\\-]',value=r'')\n",
        "df.head(10)"
      ],
      "metadata": {
        "id": "cjNuSym4SEEL"
      },
      "execution_count": null,
      "outputs": []
    },
    {
      "cell_type": "code",
      "source": [
        "#df['parameter']= df['parameter'].fillna(0)\n",
        "#df"
      ],
      "metadata": {
        "id": "FEHoHN7QkmU3"
      },
      "execution_count": null,
      "outputs": []
    },
    {
      "cell_type": "code",
      "source": [
        "df.dtypes"
      ],
      "metadata": {
        "id": "_yJQB-pXlAfX"
      },
      "execution_count": null,
      "outputs": []
    },
    {
      "cell_type": "code",
      "source": [
        "#df.dropna()"
      ],
      "metadata": {
        "id": "PvUjlVorpErH"
      },
      "execution_count": null,
      "outputs": []
    },
    {
      "cell_type": "code",
      "source": [
        "df['parameter']= df['parameter'].astype('float')\n",
        "df.head(10)"
      ],
      "metadata": {
        "id": "h6cYFf1Mi5Ec"
      },
      "execution_count": null,
      "outputs": []
    },
    {
      "cell_type": "markdown",
      "source": [
        "## Fill the null value in parameter column with average of all the non null parameters in dataframe"
      ],
      "metadata": {
        "id": "dUhVtcSMhJu-"
      }
    },
    {
      "cell_type": "code",
      "source": [
        "df['parameter'] = df['parameter'].fillna( df['parameter'].mean())"
      ],
      "metadata": {
        "id": "tdzsZnEpTN9i"
      },
      "execution_count": null,
      "outputs": []
    },
    {
      "cell_type": "code",
      "source": [
        "df"
      ],
      "metadata": {
        "id": "l50lvcaeiCqZ"
      },
      "execution_count": null,
      "outputs": []
    },
    {
      "cell_type": "code",
      "source": [
        "df['parameter']= df['parameter'].astype('int')\n",
        "df"
      ],
      "metadata": {
        "id": "ulGx5EjEh2LN"
      },
      "execution_count": null,
      "outputs": []
    },
    {
      "cell_type": "markdown",
      "source": [
        "# Fill the country based on the other values in the dataframe for city"
      ],
      "metadata": {
        "id": "0Bf50WNAttfR"
      }
    },
    {
      "cell_type": "code",
      "source": [
        "df['country'] = np.where((df['country'].isna()) & (df['city']== 'Paris'), 'FR' ,'ID')"
      ],
      "metadata": {
        "id": "Veup7v4euEf7"
      },
      "execution_count": null,
      "outputs": []
    },
    {
      "cell_type": "code",
      "source": [
        "df"
      ],
      "metadata": {
        "id": "LjBmYlqCP4W-"
      },
      "execution_count": null,
      "outputs": []
    },
    {
      "cell_type": "markdown",
      "source": [
        "## Plot the histogram to get the comparison of which city has more parameters with respect to date"
      ],
      "metadata": {
        "id": "S4HQqHiCPX2l"
      }
    },
    {
      "cell_type": "code",
      "source": [
        "df.groupby(['city','parameter'])['parameter'].sum()"
      ],
      "metadata": {
        "id": "xORUNZUQPaH-"
      },
      "execution_count": null,
      "outputs": []
    },
    {
      "cell_type": "code",
      "source": [
        "import matplotlib.pyplot as plt\n",
        "import seaborn as sns"
      ],
      "metadata": {
        "id": "uc7qphcMTmsr"
      },
      "execution_count": null,
      "outputs": []
    },
    {
      "cell_type": "code",
      "source": [
        "sns.histplot(data=df, x= 'date.IST', hue=\"city\")"
      ],
      "metadata": {
        "id": "HZGLiYXXSu3o"
      },
      "execution_count": null,
      "outputs": []
    },
    {
      "cell_type": "markdown",
      "source": [
        "# **Section 2**\n"
      ],
      "metadata": {
        "id": "mN9MmqeJSf-v"
      }
    },
    {
      "cell_type": "code",
      "source": [
        "weather = pd.read_csv(\"/content/drive/MyDrive/python module setup/weather.csv\")"
      ],
      "metadata": {
        "id": "bB2180sbRLPK"
      },
      "execution_count": null,
      "outputs": []
    },
    {
      "cell_type": "code",
      "source": [
        "weather.describe()"
      ],
      "metadata": {
        "id": "buQPR14AS0IW"
      },
      "execution_count": null,
      "outputs": []
    },
    {
      "cell_type": "code",
      "source": [
        "weather.head()"
      ],
      "metadata": {
        "id": "Eh-e9cgHS30I"
      },
      "execution_count": null,
      "outputs": []
    },
    {
      "cell_type": "code",
      "source": [
        ""
      ],
      "metadata": {
        "id": "LbrumNSbUxRw"
      },
      "execution_count": null,
      "outputs": []
    },
    {
      "cell_type": "code",
      "source": [
        "weather.dtypes"
      ],
      "metadata": {
        "id": "EtlDNeH1S7JW"
      },
      "execution_count": null,
      "outputs": []
    },
    {
      "cell_type": "code",
      "source": [
        "weather=weather.rename(columns={'Data.Precipitation':'precipitation',\n",
        "                        'Date.Full':'date',\n",
        "                        'Station.City':'city',\n",
        "                        'Station.State':'state',\n",
        "                        'Data.Temperature.Avg Temp':'avg_temp',\n",
        "                        'Data.Temperature.Max Temp':'max_temp',\n",
        "                        'Data.Temperature.Min Temp':'min_temp',\n",
        "                        'Data.Wind.Direction':'wind_direction',\n",
        "                        'Data.Wind.Speed':'wind_speed'})\n",
        "weather"
      ],
      "metadata": {
        "id": "UELPA40WT_x8"
      },
      "execution_count": null,
      "outputs": []
    },
    {
      "cell_type": "code",
      "source": [
        "weather['city'] = weather['city'].str.strip()\n",
        "weather['state'] = weather['state'].str.strip()"
      ],
      "metadata": {
        "id": "sQ2UCkWHwcxX"
      },
      "execution_count": null,
      "outputs": []
    },
    {
      "cell_type": "code",
      "source": [
        "weather"
      ],
      "metadata": {
        "id": "2x9mWSh1xFfm"
      },
      "execution_count": null,
      "outputs": []
    },
    {
      "cell_type": "code",
      "source": [
        "weather['city'].replace(regex=True,inplace=True,to_replace=r'[^A-Za-z0-9]',value=r'')\n",
        "weather['state'].replace(regex=True,inplace=True,to_replace=r'[^A-Za-z0-9]',value=r'')"
      ],
      "metadata": {
        "id": "d3M39heOxO_4"
      },
      "execution_count": null,
      "outputs": []
    },
    {
      "cell_type": "code",
      "source": [
        "weather"
      ],
      "metadata": {
        "id": "jS0Tn7Vsyiu0"
      },
      "execution_count": null,
      "outputs": []
    },
    {
      "cell_type": "markdown",
      "source": [
        "# Select the records that corresponds to hottest city for each state"
      ],
      "metadata": {
        "id": "zKDQ4bT6y6tW"
      }
    },
    {
      "cell_type": "code",
      "source": [
        "hotest_city = weather.groupby(['state','city'])['max_temp'].max().reset_index()\n",
        "hotest_city"
      ],
      "metadata": {
        "id": "8dp8Wjt5ysJM"
      },
      "execution_count": null,
      "outputs": []
    },
    {
      "cell_type": "code",
      "source": [
        "hotest_city = weather.loc[weather.groupby('state')['max_temp'].idxmax().values,['state','city','max_temp']]\n",
        "hotest_city"
      ],
      "metadata": {
        "id": "TVlot5lYXqjg"
      },
      "execution_count": null,
      "outputs": []
    },
    {
      "cell_type": "markdown",
      "source": [
        "## Create a new dataframe which contains the average wind speed of each state and whose wind speed is greater than the overall average wind speed across all the states"
      ],
      "metadata": {
        "id": "5k7n5847Y3mF"
      }
    },
    {
      "cell_type": "code",
      "source": [
        "weather.head(10)"
      ],
      "metadata": {
        "id": "nXZgHhy3Wdht"
      },
      "execution_count": null,
      "outputs": []
    },
    {
      "cell_type": "code",
      "source": [
        "wind_speed_o=weather['wind_speed'].mean()\n",
        "wind_speed_o"
      ],
      "metadata": {
        "id": "k0PnFVP9ap9-"
      },
      "execution_count": null,
      "outputs": []
    },
    {
      "cell_type": "code",
      "source": [
        "wind_speed_state = weather.groupby('state')['wind_speed'].mean().reset_index()\n",
        "wind_speed_state.head(5)"
      ],
      "metadata": {
        "id": "tOiPvWwha3fy"
      },
      "execution_count": null,
      "outputs": []
    },
    {
      "cell_type": "code",
      "source": [
        "wind_speed_state['wind_speed_o'] = weather['wind_speed'].mean()\n",
        "wind_speed_state.head()"
      ],
      "metadata": {
        "id": "RniOgo59beck"
      },
      "execution_count": null,
      "outputs": []
    },
    {
      "cell_type": "code",
      "source": [
        "wind_speed_new = wind_speed_state[wind_speed_state['wind_speed'] > wind_speed_state['wind_speed_o']]\n",
        "wind_speed_new.head()"
      ],
      "metadata": {
        "id": "MIlIkjWUgiZR"
      },
      "execution_count": null,
      "outputs": []
    },
    {
      "cell_type": "markdown",
      "source": [
        "# Pivot the existing dataframe to find the average temperature for every city across all the months for the year 2016. Please refer to the below table for the expected output. "
      ],
      "metadata": {
        "id": "nqdv8o5zhReq"
      }
    },
    {
      "cell_type": "code",
      "source": [
        "weather.head()"
      ],
      "metadata": {
        "id": "W70Z-6WDk6He"
      },
      "execution_count": null,
      "outputs": []
    },
    {
      "cell_type": "code",
      "source": [
        "weather['date']= pd.to_datetime(weather['date'].values)\n",
        "#weather['date']=pd.to_datetime(weather['date'])\n"
      ],
      "metadata": {
        "id": "KPfp8EwuiQr6"
      },
      "execution_count": null,
      "outputs": []
    },
    {
      "cell_type": "code",
      "source": [
        "weather.dtypes"
      ],
      "metadata": {
        "id": "higHVbkBt9V7"
      },
      "execution_count": null,
      "outputs": []
    },
    {
      "cell_type": "markdown",
      "source": [
        ""
      ],
      "metadata": {
        "id": "-L5wV_a8ujsX"
      }
    },
    {
      "cell_type": "code",
      "source": [
        "weather['month']= weather['date'].dt.month_name()\n",
        "weather.head(5)"
      ],
      "metadata": {
        "id": "vD9LZ-rIidET"
      },
      "execution_count": null,
      "outputs": []
    },
    {
      "cell_type": "code",
      "source": [
        "df_2016 = weather[weather.date.dt.year==2016]\n",
        "df_2016\n",
        "\n"
      ],
      "metadata": {
        "id": "4aAecUCZloa1"
      },
      "execution_count": null,
      "outputs": []
    },
    {
      "cell_type": "code",
      "source": [
        "y_2016 = pd.DataFrame(df_2016.groupby([\"city\",\"month\"])[\"max_temp\"].agg(\"max\")).reset_index()\n",
        "y_2016"
      ],
      "metadata": {
        "id": "Ozu8J1y6xvi0"
      },
      "execution_count": null,
      "outputs": []
    },
    {
      "cell_type": "code",
      "source": [
        "y_2016['max_temp'].isna().sum()"
      ],
      "metadata": {
        "id": "7gOB2HUB6iIv"
      },
      "execution_count": null,
      "outputs": []
    },
    {
      "cell_type": "code",
      "source": [
        "pivoted = y_2016.pivot(index=\"city\", columns=\"month\",values=\"max_temp\")\n",
        "pivoted"
      ],
      "metadata": {
        "id": "dzMEvpXe1U8b"
      },
      "execution_count": null,
      "outputs": []
    },
    {
      "cell_type": "code",
      "source": [
        "weather.head()"
      ],
      "metadata": {
        "id": "GP0QaFzGo85g"
      },
      "execution_count": null,
      "outputs": []
    },
    {
      "cell_type": "markdown",
      "source": [
        "## Bucket the daily average temperature into the following temperature scale: 0-25, 26-40, 41-65 and then find out the distribution of records that lie in each of these buckets. Also find which city’s temperature frequently falls in each bucket"
      ],
      "metadata": {
        "id": "RqgxD-foXrgo"
      }
    },
    {
      "cell_type": "code",
      "source": [
        "weather['bucket_0-25']= weather[ (weather['avg_temp'] > 0) & (weather['avg_temp'] < 26) ].avg_temp\n",
        "weather['bucket_26-40']=weather[(weather['avg_temp'] >25) & (weather['avg_temp'] < 41)].avg_temp\n",
        "weather['bucket_41-65']=weather[(weather['avg_temp'] >40) & (weather['avg_temp'] < 66)].avg_temp\n",
        "weather.head(5)"
      ],
      "metadata": {
        "id": "Mv-bndG4n7MA"
      },
      "execution_count": null,
      "outputs": []
    },
    {
      "cell_type": "markdown",
      "source": [
        "Section 3 : Data Preprocessing"
      ],
      "metadata": {
        "id": "PN7UOVNRuS76"
      }
    },
    {
      "cell_type": "code",
      "source": [
        "weather.head()"
      ],
      "metadata": {
        "id": "u96d_L8_ycnB"
      },
      "execution_count": null,
      "outputs": []
    },
    {
      "cell_type": "code",
      "source": [
        ""
      ],
      "metadata": {
        "id": "a6QUrG8h-_YZ"
      },
      "execution_count": null,
      "outputs": []
    }
  ]
}